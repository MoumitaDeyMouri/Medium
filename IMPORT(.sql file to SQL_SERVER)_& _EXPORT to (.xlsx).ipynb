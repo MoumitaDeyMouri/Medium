{
 "cells": [
  {
   "cell_type": "code",
   "execution_count": 26,
   "id": "631c8ee2",
   "metadata": {},
   "outputs": [],
   "source": [
    "import warnings\n",
    "\n",
    "warnings.filterwarnings('ignore')"
   ]
  },
  {
   "cell_type": "code",
   "execution_count": 34,
   "id": "56ab26eb",
   "metadata": {},
   "outputs": [
    {
     "name": "stdout",
     "output_type": "stream",
     "text": [
      "Collecting openpyxl\n",
      "  Downloading openpyxl-3.1.2-py2.py3-none-any.whl (249 kB)\n",
      "     ------------------------------------ 250.0/250.0 kB 374.0 kB/s eta 0:00:00\n",
      "Collecting et-xmlfile\n",
      "  Downloading et_xmlfile-1.1.0-py3-none-any.whl (4.7 kB)\n",
      "Installing collected packages: et-xmlfile, openpyxl\n",
      "Successfully installed et-xmlfile-1.1.0 openpyxl-3.1.2\n"
     ]
    }
   ],
   "source": [
    "#!pip install openpyxl\n",
    "#!pip install mysql-connector-python "
   ]
  },
  {
   "cell_type": "markdown",
   "id": "dcf06492",
   "metadata": {},
   "source": [
    "# IMPORT"
   ]
  },
  {
   "cell_type": "markdown",
   "id": "e3573954",
   "metadata": {},
   "source": [
    "### Problem-1:\n",
    "\n",
    "You are given a SQL file link: https://drive.google.com/file/d/1WFt7B84LTHhMueoKmz8W-PRo7xXqmZf3/view?usp=share_link. Read the data by using the file and store it in a excel file. In this data, there are 3 tables named \"invoices\", \"order_leads\" and \"sales_sql\". So create 3 sheets to your excel file."
   ]
  },
  {
   "cell_type": "code",
   "execution_count": 18,
   "id": "9b2aeec3",
   "metadata": {},
   "outputs": [],
   "source": [
    "import mysql.connector"
   ]
  },
  {
   "cell_type": "code",
   "execution_count": 19,
   "id": "b84a44b3",
   "metadata": {},
   "outputs": [
    {
     "name": "stdout",
     "output_type": "stream",
     "text": [
      "('bankmanagementsystem',)\n",
      "('campusx',)\n",
      "('cx_task',)\n",
      "('fassos',)\n",
      "('flight_app',)\n",
      "('indigo',)\n",
      "('information_schema',)\n",
      "('mysql',)\n",
      "('performance_schema',)\n",
      "('sql_cx_live',)\n",
      "('sys',)\n",
      "('zomato',)\n"
     ]
    }
   ],
   "source": [
    "myconn = mysql.connector.connect(host='localhost',database='cx_task',user='root', password='my_pass')\n",
    "\n",
    "c=myconn.cursor()\n",
    "\n",
    "c.execute(\"show databases\")\n",
    "\n",
    "for i in c:\n",
    "    print(i)"
   ]
  },
  {
   "cell_type": "code",
   "execution_count": 20,
   "id": "f2768201",
   "metadata": {},
   "outputs": [
    {
     "name": "stdout",
     "output_type": "stream",
     "text": [
      "('invoices',)\n",
      "('order_leads',)\n",
      "('sales_sql',)\n"
     ]
    }
   ],
   "source": [
    "c.execute(\"show tables\")\n",
    "\n",
    "for i in c:\n",
    "    print(i)\n",
    "    "
   ]
  },
  {
   "cell_type": "code",
   "execution_count": 29,
   "id": "7f35d8ac",
   "metadata": {},
   "outputs": [],
   "source": [
    "import pandas as pd\n",
    "\n",
    "invoices = pd.read_sql_query('Select * from invoices',myconn)\n",
    "order_leads = pd.read_sql_query('Select * from order_leads',myconn)\n",
    "sales_sql = pd.read_sql_query('Select * from sales_sql',myconn)"
   ]
  },
  {
   "cell_type": "code",
   "execution_count": 31,
   "id": "efe5d17e",
   "metadata": {},
   "outputs": [
    {
     "data": {
      "text/html": [
       "<div>\n",
       "<style scoped>\n",
       "    .dataframe tbody tr th:only-of-type {\n",
       "        vertical-align: middle;\n",
       "    }\n",
       "\n",
       "    .dataframe tbody tr th {\n",
       "        vertical-align: top;\n",
       "    }\n",
       "\n",
       "    .dataframe thead th {\n",
       "        text-align: right;\n",
       "    }\n",
       "</style>\n",
       "<table border=\"1\" class=\"dataframe\">\n",
       "  <thead>\n",
       "    <tr style=\"text-align: right;\">\n",
       "      <th></th>\n",
       "      <th>index</th>\n",
       "      <th>Sales Rep</th>\n",
       "      <th>Sales Rep Id</th>\n",
       "      <th>Company Name</th>\n",
       "      <th>Company Id</th>\n",
       "    </tr>\n",
       "  </thead>\n",
       "  <tbody>\n",
       "    <tr>\n",
       "      <th>4232</th>\n",
       "      <td>4232</td>\n",
       "      <td>James Moore</td>\n",
       "      <td>534ESAMPETPUGAXC</td>\n",
       "      <td>Sacral Prop</td>\n",
       "      <td>TY5WOIELN51W6X48</td>\n",
       "    </tr>\n",
       "  </tbody>\n",
       "</table>\n",
       "</div>"
      ],
      "text/plain": [
       "      index    Sales Rep      Sales Rep Id Company Name        Company Id\n",
       "4232   4232  James Moore  534ESAMPETPUGAXC  Sacral Prop  TY5WOIELN51W6X48"
      ]
     },
     "execution_count": 31,
     "metadata": {},
     "output_type": "execute_result"
    }
   ],
   "source": [
    "sales_sql.sample()"
   ]
  },
  {
   "cell_type": "markdown",
   "id": "1aff7497",
   "metadata": {},
   "source": [
    "store it in excel file"
   ]
  },
  {
   "cell_type": "code",
   "execution_count": 38,
   "id": "eedd1a5d",
   "metadata": {},
   "outputs": [],
   "source": [
    "with pd.ExcelWriter('supermarket.xlsx') as writer:\n",
    "    invoices.to_excel(writer,sheet_name='invoices',index=False)\n",
    "    order_leads.to_excel(writer,sheet_name='order_leads',index=False)\n",
    "    sales_sql.to_excel(writer,sheet_name='sales_sql',index=False)"
   ]
  }
 ],
 "metadata": {
  "kernelspec": {
   "display_name": "Python 3 (ipykernel)",
   "language": "python",
   "name": "python3"
  },
  "language_info": {
   "codemirror_mode": {
    "name": "ipython",
    "version": 3
   },
   "file_extension": ".py",
   "mimetype": "text/x-python",
   "name": "python",
   "nbconvert_exporter": "python",
   "pygments_lexer": "ipython3",
   "version": "3.8.15"
  }
 },
 "nbformat": 4,
 "nbformat_minor": 5
}
